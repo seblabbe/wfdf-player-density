{
 "cells": [
  {
   "cell_type": "code",
   "execution_count": 518,
   "metadata": {
    "collapsed": true,
    "deletable": true,
    "editable": true
   },
   "outputs": [],
   "source": [
    "import pandas as pd\n",
    "%matplotlib inline"
   ]
  },
  {
   "cell_type": "markdown",
   "metadata": {
    "deletable": true,
    "editable": true
   },
   "source": [
    "# Loading WFDF data"
   ]
  },
  {
   "cell_type": "code",
   "execution_count": 519,
   "metadata": {
    "collapsed": false,
    "deletable": true,
    "editable": true
   },
   "outputs": [],
   "source": [
    "wfdf = pd.read_csv('data/wfdf_active_participants_per_country.csv')"
   ]
  },
  {
   "cell_type": "code",
   "execution_count": 520,
   "metadata": {
    "collapsed": false,
    "deletable": true,
    "editable": true
   },
   "outputs": [
    {
     "data": {
      "text/html": [
       "<div>\n",
       "<table border=\"1\" class=\"dataframe\">\n",
       "  <thead>\n",
       "    <tr style=\"text-align: right;\">\n",
       "      <th></th>\n",
       "      <th>country</th>\n",
       "      <th>active_male</th>\n",
       "      <th>active_female</th>\n",
       "      <th>total</th>\n",
       "      <th>under_19</th>\n",
       "      <th>over_35</th>\n",
       "    </tr>\n",
       "  </thead>\n",
       "  <tbody>\n",
       "    <tr>\n",
       "      <th>0</th>\n",
       "      <td>Argentina</td>\n",
       "      <td>190</td>\n",
       "      <td>60</td>\n",
       "      <td>250</td>\n",
       "      <td>25</td>\n",
       "      <td>25</td>\n",
       "    </tr>\n",
       "    <tr>\n",
       "      <th>1</th>\n",
       "      <td>Australia</td>\n",
       "      <td>3350</td>\n",
       "      <td>1650</td>\n",
       "      <td>5000</td>\n",
       "      <td>250</td>\n",
       "      <td>400</td>\n",
       "    </tr>\n",
       "    <tr>\n",
       "      <th>2</th>\n",
       "      <td>Austria</td>\n",
       "      <td>1370</td>\n",
       "      <td>761</td>\n",
       "      <td>2272</td>\n",
       "      <td>879</td>\n",
       "      <td>258</td>\n",
       "    </tr>\n",
       "    <tr>\n",
       "      <th>3</th>\n",
       "      <td>Belgium</td>\n",
       "      <td>766</td>\n",
       "      <td>242</td>\n",
       "      <td>1008</td>\n",
       "      <td>203</td>\n",
       "      <td>72</td>\n",
       "    </tr>\n",
       "    <tr>\n",
       "      <th>4</th>\n",
       "      <td>Brazil</td>\n",
       "      <td>160</td>\n",
       "      <td>90</td>\n",
       "      <td>250</td>\n",
       "      <td>70</td>\n",
       "      <td>50</td>\n",
       "    </tr>\n",
       "  </tbody>\n",
       "</table>\n",
       "</div>"
      ],
      "text/plain": [
       "     country  active_male  active_female  total  under_19  over_35\n",
       "0  Argentina          190             60    250        25       25\n",
       "1  Australia         3350           1650   5000       250      400\n",
       "2    Austria         1370            761   2272       879      258\n",
       "3    Belgium          766            242   1008       203       72\n",
       "4     Brazil          160             90    250        70       50"
      ]
     },
     "execution_count": 520,
     "metadata": {},
     "output_type": "execute_result"
    }
   ],
   "source": [
    "wfdf.head()"
   ]
  },
  {
   "cell_type": "markdown",
   "metadata": {
    "deletable": true,
    "editable": true
   },
   "source": [
    "We remove some lines in the WFDF data:"
   ]
  },
  {
   "cell_type": "code",
   "execution_count": 521,
   "metadata": {
    "collapsed": false,
    "deletable": true,
    "editable": true
   },
   "outputs": [],
   "source": [
    "noise_lines=['FPA Freestyle','PDGA Disc Golf','USGPA Guts','Subtotal']\n",
    "wfdf = wfdf[~wfdf.country.isin(noise_lines)]"
   ]
  },
  {
   "cell_type": "markdown",
   "metadata": {
    "deletable": true,
    "editable": true
   },
   "source": [
    "# Loading Population data form World Bank"
   ]
  },
  {
   "cell_type": "markdown",
   "metadata": {
    "deletable": true,
    "editable": true
   },
   "source": [
    "The file `API_SP.POP.TOTL_DS2_en_csv_v2.csv` is from:\n",
    "\n",
    "    http://data.worldbank.org/indicator/SP.POP.TOTL"
   ]
  },
  {
   "cell_type": "code",
   "execution_count": 522,
   "metadata": {
    "collapsed": true,
    "deletable": true,
    "editable": true
   },
   "outputs": [],
   "source": [
    "population = pd.read_csv('data/API_SP.POP.TOTL_DS2_en_csv_v2.csv', header=2)\n",
    "population_2014 = population.loc[:,['Country Name','2014']]"
   ]
  },
  {
   "cell_type": "code",
   "execution_count": 523,
   "metadata": {
    "collapsed": false,
    "deletable": true,
    "editable": true
   },
   "outputs": [
    {
     "data": {
      "text/html": [
       "<div>\n",
       "<table border=\"1\" class=\"dataframe\">\n",
       "  <thead>\n",
       "    <tr style=\"text-align: right;\">\n",
       "      <th></th>\n",
       "      <th>Country Name</th>\n",
       "      <th>2014</th>\n",
       "    </tr>\n",
       "  </thead>\n",
       "  <tbody>\n",
       "    <tr>\n",
       "      <th>0</th>\n",
       "      <td>Aruba</td>\n",
       "      <td>103441.0</td>\n",
       "    </tr>\n",
       "    <tr>\n",
       "      <th>1</th>\n",
       "      <td>Andorra</td>\n",
       "      <td>72786.0</td>\n",
       "    </tr>\n",
       "    <tr>\n",
       "      <th>2</th>\n",
       "      <td>Afghanistan</td>\n",
       "      <td>31627506.0</td>\n",
       "    </tr>\n",
       "    <tr>\n",
       "      <th>3</th>\n",
       "      <td>Angola</td>\n",
       "      <td>24227524.0</td>\n",
       "    </tr>\n",
       "    <tr>\n",
       "      <th>4</th>\n",
       "      <td>Albania</td>\n",
       "      <td>2893654.0</td>\n",
       "    </tr>\n",
       "  </tbody>\n",
       "</table>\n",
       "</div>"
      ],
      "text/plain": [
       "  Country Name        2014\n",
       "0        Aruba    103441.0\n",
       "1      Andorra     72786.0\n",
       "2  Afghanistan  31627506.0\n",
       "3       Angola  24227524.0\n",
       "4      Albania   2893654.0"
      ]
     },
     "execution_count": 523,
     "metadata": {},
     "output_type": "execute_result"
    }
   ],
   "source": [
    "population_2014.head()"
   ]
  },
  {
   "cell_type": "markdown",
   "metadata": {
    "deletable": true,
    "editable": true
   },
   "source": [
    "# Renaming Country Names in WFDF table to fit World Bank"
   ]
  },
  {
   "cell_type": "code",
   "execution_count": 524,
   "metadata": {
    "collapsed": false,
    "deletable": true,
    "editable": true
   },
   "outputs": [],
   "source": [
    "def country_name_not_in_world_bank(series):\n",
    "    official_country_names = population['Country Name']\n",
    "    return series[~series.isin(official_country_names)]"
   ]
  },
  {
   "cell_type": "code",
   "execution_count": 525,
   "metadata": {
    "collapsed": false,
    "deletable": true,
    "editable": true
   },
   "outputs": [
    {
     "data": {
      "text/plain": [
       "6     People`s Republic of China\n",
       "7                 Chinese Taipei\n",
       "17                 Great Britain\n",
       "18               Hong Kong China\n",
       "33                   Phillipines\n",
       "38                      Slovakia\n",
       "41                   South Korea\n",
       "48                  USA Ultimate\n",
       "50                     Venezuela\n",
       "Name: country, dtype: object"
      ]
     },
     "execution_count": 525,
     "metadata": {},
     "output_type": "execute_result"
    }
   ],
   "source": [
    "country_name_not_in_world_bank(wfdf.country)"
   ]
  },
  {
   "cell_type": "code",
   "execution_count": 526,
   "metadata": {
    "collapsed": false,
    "deletable": true,
    "editable": true
   },
   "outputs": [],
   "source": [
    "fixme = {'People`s Republic of China': 'China', \n",
    "     'Great Britain': 'United Kingdom',\n",
    "     'Hong Kong China': 'Hong Kong SAR, China',\n",
    "     'Phillipines': 'Philippines',\n",
    "     'Slovakia': 'Slovak Republic',\n",
    "     'South Korea': 'Korea, Rep.',\n",
    "     'USA Ultimate': 'United States',\n",
    "     'Venezuela': 'Venezuela, RB'}\n",
    "def fix_country_names_in_wfdf(wfdf, fixme):\n",
    "    for i in wfdf.index:\n",
    "        country_name = wfdf.country[i]\n",
    "        if country_name in fixme:\n",
    "            wfdf.set_value(i,'country', fixme[country_name])\n",
    "fix_country_names_in_wfdf(wfdf, fixme)"
   ]
  },
  {
   "cell_type": "markdown",
   "metadata": {
    "deletable": true,
    "editable": true
   },
   "source": [
    "Chinese Taipei is not in World Bank data:"
   ]
  },
  {
   "cell_type": "code",
   "execution_count": 527,
   "metadata": {
    "collapsed": false,
    "deletable": true,
    "editable": true
   },
   "outputs": [
    {
     "data": {
      "text/plain": [
       "7    Chinese Taipei\n",
       "Name: country, dtype: object"
      ]
     },
     "execution_count": 527,
     "metadata": {},
     "output_type": "execute_result"
    }
   ],
   "source": [
    "country_name_not_in_world_bank(wfdf.country)"
   ]
  },
  {
   "cell_type": "markdown",
   "metadata": {
    "deletable": true,
    "editable": true
   },
   "source": [
    "# 1. Number of active players per Country (2014)"
   ]
  },
  {
   "cell_type": "code",
   "execution_count": 528,
   "metadata": {
    "collapsed": false,
    "deletable": true,
    "editable": true
   },
   "outputs": [
    {
     "data": {
      "text/html": [
       "<div>\n",
       "<table border=\"1\" class=\"dataframe\">\n",
       "  <thead>\n",
       "    <tr style=\"text-align: right;\">\n",
       "      <th></th>\n",
       "      <th>country</th>\n",
       "      <th>active_male</th>\n",
       "      <th>active_female</th>\n",
       "      <th>total</th>\n",
       "      <th>under_19</th>\n",
       "      <th>over_35</th>\n",
       "    </tr>\n",
       "  </thead>\n",
       "  <tbody>\n",
       "    <tr>\n",
       "      <th>48</th>\n",
       "      <td>United States</td>\n",
       "      <td>33008</td>\n",
       "      <td>14129</td>\n",
       "      <td>47137</td>\n",
       "      <td>12345</td>\n",
       "      <td>3454</td>\n",
       "    </tr>\n",
       "    <tr>\n",
       "      <th>5</th>\n",
       "      <td>Canada</td>\n",
       "      <td>20426</td>\n",
       "      <td>13617</td>\n",
       "      <td>34043</td>\n",
       "      <td>2500</td>\n",
       "      <td>3500</td>\n",
       "    </tr>\n",
       "    <tr>\n",
       "      <th>1</th>\n",
       "      <td>Australia</td>\n",
       "      <td>3350</td>\n",
       "      <td>1650</td>\n",
       "      <td>5000</td>\n",
       "      <td>250</td>\n",
       "      <td>400</td>\n",
       "    </tr>\n",
       "    <tr>\n",
       "      <th>16</th>\n",
       "      <td>Germany</td>\n",
       "      <td>2696</td>\n",
       "      <td>936</td>\n",
       "      <td>3632</td>\n",
       "      <td>488</td>\n",
       "      <td>847</td>\n",
       "    </tr>\n",
       "    <tr>\n",
       "      <th>25</th>\n",
       "      <td>Japan</td>\n",
       "      <td>2450</td>\n",
       "      <td>1171</td>\n",
       "      <td>3621</td>\n",
       "      <td>198</td>\n",
       "      <td>552</td>\n",
       "    </tr>\n",
       "    <tr>\n",
       "      <th>17</th>\n",
       "      <td>United Kingdom</td>\n",
       "      <td>2420</td>\n",
       "      <td>1201</td>\n",
       "      <td>3621</td>\n",
       "      <td>863</td>\n",
       "      <td>110</td>\n",
       "    </tr>\n",
       "    <tr>\n",
       "      <th>15</th>\n",
       "      <td>France</td>\n",
       "      <td>2014</td>\n",
       "      <td>682</td>\n",
       "      <td>2696</td>\n",
       "      <td>413</td>\n",
       "      <td>888</td>\n",
       "    </tr>\n",
       "    <tr>\n",
       "      <th>2</th>\n",
       "      <td>Austria</td>\n",
       "      <td>1370</td>\n",
       "      <td>761</td>\n",
       "      <td>2272</td>\n",
       "      <td>879</td>\n",
       "      <td>258</td>\n",
       "    </tr>\n",
       "    <tr>\n",
       "      <th>8</th>\n",
       "      <td>Colombia</td>\n",
       "      <td>861</td>\n",
       "      <td>458</td>\n",
       "      <td>1438</td>\n",
       "      <td>203</td>\n",
       "      <td>73</td>\n",
       "    </tr>\n",
       "    <tr>\n",
       "      <th>30</th>\n",
       "      <td>Norway</td>\n",
       "      <td>1110</td>\n",
       "      <td>242</td>\n",
       "      <td>1352</td>\n",
       "      <td>193</td>\n",
       "      <td>0</td>\n",
       "    </tr>\n",
       "  </tbody>\n",
       "</table>\n",
       "</div>"
      ],
      "text/plain": [
       "           country  active_male  active_female  total  under_19  over_35\n",
       "48   United States        33008          14129  47137     12345     3454\n",
       "5           Canada        20426          13617  34043      2500     3500\n",
       "1        Australia         3350           1650   5000       250      400\n",
       "16         Germany         2696            936   3632       488      847\n",
       "25           Japan         2450           1171   3621       198      552\n",
       "17  United Kingdom         2420           1201   3621       863      110\n",
       "15          France         2014            682   2696       413      888\n",
       "2          Austria         1370            761   2272       879      258\n",
       "8         Colombia          861            458   1438       203       73\n",
       "30          Norway         1110            242   1352       193        0"
      ]
     },
     "execution_count": 528,
     "metadata": {},
     "output_type": "execute_result"
    }
   ],
   "source": [
    "df1 = wfdf.sort_values(by='total', ascending=False)\n",
    "df1.head(10)"
   ]
  },
  {
   "cell_type": "code",
   "execution_count": 529,
   "metadata": {
    "collapsed": false,
    "deletable": true,
    "editable": true
   },
   "outputs": [
    {
     "data": {
      "text/plain": [
       "22"
      ]
     },
     "execution_count": 529,
     "metadata": {},
     "output_type": "execute_result"
    }
   ],
   "source": [
    "len(df1[df1.total>500].country)"
   ]
  },
  {
   "cell_type": "code",
   "execution_count": 530,
   "metadata": {
    "collapsed": false,
    "deletable": true,
    "editable": true
   },
   "outputs": [
    {
     "data": {
      "text/plain": [
       "<matplotlib.axes._subplots.AxesSubplot at 0x11c6ce510>"
      ]
     },
     "execution_count": 530,
     "metadata": {},
     "output_type": "execute_result"
    },
    {
     "data": {
      "image/png": "[encoded data removed]",
      "text/plain": [
       "<matplotlib.figure.Figure at 0x11c674490>"
      ]
     },
     "metadata": {},
     "output_type": "display_data"
    }
   ],
   "source": [
    "P1 = df1[df1.total>500].plot.bar(x='country', y='total',\n",
    "                                 title='Number of people playing ultimate per Country (2014)')\n",
    "P1"
   ]
  },
  {
   "cell_type": "code",
   "execution_count": 531,
   "metadata": {
    "collapsed": false
   },
   "outputs": [],
   "source": [
    "P1.figure.savefig('image1_absolute.svg', bbox_inches='tight')"
   ]
  },
  {
   "cell_type": "markdown",
   "metadata": {
    "deletable": true,
    "editable": true
   },
   "source": [
    "# 2. Density of active players per Country (2014)\n",
    "\n",
    "First, we merge number of players per country data from WFDF and total population per country from World Bank."
   ]
  },
  {
   "cell_type": "code",
   "execution_count": 532,
   "metadata": {
    "collapsed": false,
    "deletable": true,
    "editable": true
   },
   "outputs": [
    {
     "data": {
      "text/html": [
       "<div>\n",
       "<table border=\"1\" class=\"dataframe\">\n",
       "  <thead>\n",
       "    <tr style=\"text-align: right;\">\n",
       "      <th></th>\n",
       "      <th>Country Name</th>\n",
       "      <th>population</th>\n",
       "      <th>nplayers</th>\n",
       "      <th>Number of players per 1000 population</th>\n",
       "    </tr>\n",
       "  </thead>\n",
       "  <tbody>\n",
       "    <tr>\n",
       "      <th>5</th>\n",
       "      <td>Canada</td>\n",
       "      <td>35543658.0</td>\n",
       "      <td>34043</td>\n",
       "      <td>0.957780</td>\n",
       "    </tr>\n",
       "    <tr>\n",
       "      <th>2</th>\n",
       "      <td>Austria</td>\n",
       "      <td>8541575.0</td>\n",
       "      <td>2272</td>\n",
       "      <td>0.265993</td>\n",
       "    </tr>\n",
       "    <tr>\n",
       "      <th>30</th>\n",
       "      <td>Norway</td>\n",
       "      <td>5137232.0</td>\n",
       "      <td>1352</td>\n",
       "      <td>0.263177</td>\n",
       "    </tr>\n",
       "    <tr>\n",
       "      <th>1</th>\n",
       "      <td>Australia</td>\n",
       "      <td>23464086.0</td>\n",
       "      <td>5000</td>\n",
       "      <td>0.213092</td>\n",
       "    </tr>\n",
       "    <tr>\n",
       "      <th>44</th>\n",
       "      <td>United States</td>\n",
       "      <td>318907401.0</td>\n",
       "      <td>47137</td>\n",
       "      <td>0.147808</td>\n",
       "    </tr>\n",
       "    <tr>\n",
       "      <th>37</th>\n",
       "      <td>Singapore</td>\n",
       "      <td>5469724.0</td>\n",
       "      <td>800</td>\n",
       "      <td>0.146260</td>\n",
       "    </tr>\n",
       "    <tr>\n",
       "      <th>31</th>\n",
       "      <td>New Zealand</td>\n",
       "      <td>4509700.0</td>\n",
       "      <td>577</td>\n",
       "      <td>0.127946</td>\n",
       "    </tr>\n",
       "    <tr>\n",
       "      <th>15</th>\n",
       "      <td>Finland</td>\n",
       "      <td>5461512.0</td>\n",
       "      <td>569</td>\n",
       "      <td>0.104184</td>\n",
       "    </tr>\n",
       "    <tr>\n",
       "      <th>6</th>\n",
       "      <td>Switzerland</td>\n",
       "      <td>8188649.0</td>\n",
       "      <td>850</td>\n",
       "      <td>0.103802</td>\n",
       "    </tr>\n",
       "    <tr>\n",
       "      <th>40</th>\n",
       "      <td>Sweden</td>\n",
       "      <td>9696110.0</td>\n",
       "      <td>954</td>\n",
       "      <td>0.098390</td>\n",
       "    </tr>\n",
       "    <tr>\n",
       "      <th>3</th>\n",
       "      <td>Belgium</td>\n",
       "      <td>11231213.0</td>\n",
       "      <td>1008</td>\n",
       "      <td>0.089750</td>\n",
       "    </tr>\n",
       "    <tr>\n",
       "      <th>29</th>\n",
       "      <td>Netherlands</td>\n",
       "      <td>16865008.0</td>\n",
       "      <td>1152</td>\n",
       "      <td>0.068307</td>\n",
       "    </tr>\n",
       "    <tr>\n",
       "      <th>17</th>\n",
       "      <td>United Kingdom</td>\n",
       "      <td>64613160.0</td>\n",
       "      <td>3621</td>\n",
       "      <td>0.056041</td>\n",
       "    </tr>\n",
       "    <tr>\n",
       "      <th>10</th>\n",
       "      <td>Germany</td>\n",
       "      <td>80982500.0</td>\n",
       "      <td>3632</td>\n",
       "      <td>0.044849</td>\n",
       "    </tr>\n",
       "    <tr>\n",
       "      <th>16</th>\n",
       "      <td>France</td>\n",
       "      <td>66495940.0</td>\n",
       "      <td>2696</td>\n",
       "      <td>0.040544</td>\n",
       "    </tr>\n",
       "    <tr>\n",
       "      <th>8</th>\n",
       "      <td>Colombia</td>\n",
       "      <td>47791393.0</td>\n",
       "      <td>1438</td>\n",
       "      <td>0.030089</td>\n",
       "    </tr>\n",
       "    <tr>\n",
       "      <th>25</th>\n",
       "      <td>Japan</td>\n",
       "      <td>127131800.0</td>\n",
       "      <td>3621</td>\n",
       "      <td>0.028482</td>\n",
       "    </tr>\n",
       "    <tr>\n",
       "      <th>13</th>\n",
       "      <td>Spain</td>\n",
       "      <td>46480882.0</td>\n",
       "      <td>621</td>\n",
       "      <td>0.013360</td>\n",
       "    </tr>\n",
       "    <tr>\n",
       "      <th>24</th>\n",
       "      <td>Italy</td>\n",
       "      <td>60789140.0</td>\n",
       "      <td>654</td>\n",
       "      <td>0.010759</td>\n",
       "    </tr>\n",
       "    <tr>\n",
       "      <th>33</th>\n",
       "      <td>Philippines</td>\n",
       "      <td>99138690.0</td>\n",
       "      <td>1042</td>\n",
       "      <td>0.010511</td>\n",
       "    </tr>\n",
       "    <tr>\n",
       "      <th>28</th>\n",
       "      <td>Mexico</td>\n",
       "      <td>125385833.0</td>\n",
       "      <td>749</td>\n",
       "      <td>0.005974</td>\n",
       "    </tr>\n",
       "  </tbody>\n",
       "</table>\n",
       "</div>"
      ],
      "text/plain": [
       "      Country Name   population  nplayers  \\\n",
       "5           Canada   35543658.0     34043   \n",
       "2          Austria    8541575.0      2272   \n",
       "30          Norway    5137232.0      1352   \n",
       "1        Australia   23464086.0      5000   \n",
       "44   United States  318907401.0     47137   \n",
       "37       Singapore    5469724.0       800   \n",
       "31     New Zealand    4509700.0       577   \n",
       "15         Finland    5461512.0       569   \n",
       "6      Switzerland    8188649.0       850   \n",
       "40          Sweden    9696110.0       954   \n",
       "3          Belgium   11231213.0      1008   \n",
       "29     Netherlands   16865008.0      1152   \n",
       "17  United Kingdom   64613160.0      3621   \n",
       "10         Germany   80982500.0      3632   \n",
       "16          France   66495940.0      2696   \n",
       "8         Colombia   47791393.0      1438   \n",
       "25           Japan  127131800.0      3621   \n",
       "13           Spain   46480882.0       621   \n",
       "24           Italy   60789140.0       654   \n",
       "33     Philippines   99138690.0      1042   \n",
       "28          Mexico  125385833.0       749   \n",
       "\n",
       "    Number of players per 1000 population  \n",
       "5                                0.957780  \n",
       "2                                0.265993  \n",
       "30                               0.263177  \n",
       "1                                0.213092  \n",
       "44                               0.147808  \n",
       "37                               0.146260  \n",
       "31                               0.127946  \n",
       "15                               0.104184  \n",
       "6                                0.103802  \n",
       "40                               0.098390  \n",
       "3                                0.089750  \n",
       "29                               0.068307  \n",
       "17                               0.056041  \n",
       "10                               0.044849  \n",
       "16                               0.040544  \n",
       "8                                0.030089  \n",
       "25                               0.028482  \n",
       "13                               0.013360  \n",
       "24                               0.010759  \n",
       "33                               0.010511  \n",
       "28                               0.005974  "
      ]
     },
     "execution_count": 532,
     "metadata": {},
     "output_type": "execute_result"
    }
   ],
   "source": [
    "wfdf_simple = wfdf.loc[:,['country', 'total']]\n",
    "merged = population_2014.merge(wfdf_simple, left_on='Country Name', right_on='country', how='inner')\n",
    "del merged['country']\n",
    "merged = merged.rename(columns={'total':'nplayers', '2014':'population'})\n",
    "merged['Number of players per 1000 population'] = merged.nplayers / merged.population * 1000\n",
    "df2 = merged.sort_values(by='Number of players per 1000 population', ascending=False)\n",
    "df2 = df2[df2.nplayers>500]\n",
    "df2"
   ]
  },
  {
   "cell_type": "code",
   "execution_count": 533,
   "metadata": {
    "collapsed": false
   },
   "outputs": [
    {
     "data": {
      "text/plain": [
       "24664.56195737964"
      ]
     },
     "execution_count": 533,
     "metadata": {},
     "output_type": "execute_result"
    }
   ],
   "source": [
    "1/0.040544 * 1000"
   ]
  },
  {
   "cell_type": "code",
   "execution_count": 534,
   "metadata": {
    "collapsed": false,
    "deletable": true,
    "editable": true
   },
   "outputs": [
    {
     "data": {
      "text/plain": [
       "<matplotlib.axes._subplots.AxesSubplot at 0x11c95c150>"
      ]
     },
     "execution_count": 534,
     "metadata": {},
     "output_type": "execute_result"
    },
    {
     "data": {
      "image/png": "[encoded data removed]",
      "text/plain": [
       "<matplotlib.figure.Figure at 0x11c8f4090>"
      ]
     },
     "metadata": {},
     "output_type": "display_data"
    }
   ],
   "source": [
    "P2 = df2.plot.bar(x='Country Name', y='Number of players per 1000 population', color='green',\n",
    "                 title='Density of people playing ultimate per Country (2014)')\n",
    "P2"
   ]
  },
  {
   "cell_type": "code",
   "execution_count": 535,
   "metadata": {
    "collapsed": false,
    "deletable": true,
    "editable": true
   },
   "outputs": [],
   "source": [
    "P2.figure.savefig('image2_density.svg', bbox_inches='tight')"
   ]
  },
  {
   "cell_type": "markdown",
   "metadata": {
    "deletable": true,
    "editable": true
   },
   "source": [
    "# 3. Number of active female players by Country (2014)"
   ]
  },
  {
   "cell_type": "code",
   "execution_count": 536,
   "metadata": {
    "collapsed": false,
    "deletable": true,
    "editable": true
   },
   "outputs": [
    {
     "data": {
      "text/html": [
       "<div>\n",
       "<table border=\"1\" class=\"dataframe\">\n",
       "  <thead>\n",
       "    <tr style=\"text-align: right;\">\n",
       "      <th></th>\n",
       "      <th>country</th>\n",
       "      <th>active_male</th>\n",
       "      <th>active_female</th>\n",
       "      <th>total</th>\n",
       "      <th>under_19</th>\n",
       "      <th>over_35</th>\n",
       "    </tr>\n",
       "  </thead>\n",
       "  <tbody>\n",
       "    <tr>\n",
       "      <th>48</th>\n",
       "      <td>United States</td>\n",
       "      <td>33008</td>\n",
       "      <td>14129</td>\n",
       "      <td>47137</td>\n",
       "      <td>12345</td>\n",
       "      <td>3454</td>\n",
       "    </tr>\n",
       "    <tr>\n",
       "      <th>5</th>\n",
       "      <td>Canada</td>\n",
       "      <td>20426</td>\n",
       "      <td>13617</td>\n",
       "      <td>34043</td>\n",
       "      <td>2500</td>\n",
       "      <td>3500</td>\n",
       "    </tr>\n",
       "    <tr>\n",
       "      <th>1</th>\n",
       "      <td>Australia</td>\n",
       "      <td>3350</td>\n",
       "      <td>1650</td>\n",
       "      <td>5000</td>\n",
       "      <td>250</td>\n",
       "      <td>400</td>\n",
       "    </tr>\n",
       "    <tr>\n",
       "      <th>17</th>\n",
       "      <td>United Kingdom</td>\n",
       "      <td>2420</td>\n",
       "      <td>1201</td>\n",
       "      <td>3621</td>\n",
       "      <td>863</td>\n",
       "      <td>110</td>\n",
       "    </tr>\n",
       "    <tr>\n",
       "      <th>25</th>\n",
       "      <td>Japan</td>\n",
       "      <td>2450</td>\n",
       "      <td>1171</td>\n",
       "      <td>3621</td>\n",
       "      <td>198</td>\n",
       "      <td>552</td>\n",
       "    </tr>\n",
       "  </tbody>\n",
       "</table>\n",
       "</div>"
      ],
      "text/plain": [
       "           country  active_male  active_female  total  under_19  over_35\n",
       "48   United States        33008          14129  47137     12345     3454\n",
       "5           Canada        20426          13617  34043      2500     3500\n",
       "1        Australia         3350           1650   5000       250      400\n",
       "17  United Kingdom         2420           1201   3621       863      110\n",
       "25           Japan         2450           1171   3621       198      552"
      ]
     },
     "execution_count": 536,
     "metadata": {},
     "output_type": "execute_result"
    }
   ],
   "source": [
    "df3 = wfdf.sort_values(by='active_female', ascending=False)\n",
    "df3.head()"
   ]
  },
  {
   "cell_type": "code",
   "execution_count": 537,
   "metadata": {
    "collapsed": false,
    "deletable": true,
    "editable": true
   },
   "outputs": [
    {
     "data": {
      "text/plain": [
       "<matplotlib.axes._subplots.AxesSubplot at 0x11cca54d0>"
      ]
     },
     "execution_count": 537,
     "metadata": {},
     "output_type": "execute_result"
    },
    {
     "data": {
      "image/png": "[encoded data removed]",
      "text/plain": [
       "<matplotlib.figure.Figure at 0x11c89cb10>"
      ]
     },
     "metadata": {},
     "output_type": "display_data"
    }
   ],
   "source": [
    "P3 = df3[df3.active_female>200].plot.bar(x='country', y='active_female', color='yellow',\n",
    "                                        title='Number of women playing ultimate by Country (2014)')\n",
    "P3"
   ]
  },
  {
   "cell_type": "code",
   "execution_count": 538,
   "metadata": {
    "collapsed": false,
    "deletable": true,
    "editable": true
   },
   "outputs": [],
   "source": [
    "P3.figure.savefig('image3_active_female.svg', bbox_inches='tight')"
   ]
  },
  {
   "cell_type": "markdown",
   "metadata": {
    "deletable": true,
    "editable": true
   },
   "source": [
    "# 4. Density of active female per Country (2014)"
   ]
  },
  {
   "cell_type": "code",
   "execution_count": 539,
   "metadata": {
    "collapsed": false,
    "deletable": true,
    "editable": true
   },
   "outputs": [],
   "source": [
    "wfdf['Number of female per 7 active player'] = wfdf.active_female / wfdf.total * 7"
   ]
  },
  {
   "cell_type": "code",
   "execution_count": 540,
   "metadata": {
    "collapsed": false,
    "deletable": true,
    "editable": true
   },
   "outputs": [
    {
     "data": {
      "text/html": [
       "<div>\n",
       "<table border=\"1\" class=\"dataframe\">\n",
       "  <thead>\n",
       "    <tr style=\"text-align: right;\">\n",
       "      <th></th>\n",
       "      <th>country</th>\n",
       "      <th>active_male</th>\n",
       "      <th>active_female</th>\n",
       "      <th>total</th>\n",
       "      <th>under_19</th>\n",
       "      <th>over_35</th>\n",
       "      <th>Number of female per 7 active player</th>\n",
       "    </tr>\n",
       "  </thead>\n",
       "  <tbody>\n",
       "    <tr>\n",
       "      <th>33</th>\n",
       "      <td>Philippines</td>\n",
       "      <td>596</td>\n",
       "      <td>446</td>\n",
       "      <td>1042</td>\n",
       "      <td>145</td>\n",
       "      <td>83</td>\n",
       "      <td>2.996161</td>\n",
       "    </tr>\n",
       "    <tr>\n",
       "      <th>29</th>\n",
       "      <td>New Zealand</td>\n",
       "      <td>344</td>\n",
       "      <td>233</td>\n",
       "      <td>577</td>\n",
       "      <td>97</td>\n",
       "      <td>78</td>\n",
       "      <td>2.826690</td>\n",
       "    </tr>\n",
       "    <tr>\n",
       "      <th>5</th>\n",
       "      <td>Canada</td>\n",
       "      <td>20426</td>\n",
       "      <td>13617</td>\n",
       "      <td>34043</td>\n",
       "      <td>2500</td>\n",
       "      <td>3500</td>\n",
       "      <td>2.799959</td>\n",
       "    </tr>\n",
       "    <tr>\n",
       "      <th>13</th>\n",
       "      <td>Finland</td>\n",
       "      <td>357</td>\n",
       "      <td>212</td>\n",
       "      <td>569</td>\n",
       "      <td>79</td>\n",
       "      <td>98</td>\n",
       "      <td>2.608084</td>\n",
       "    </tr>\n",
       "    <tr>\n",
       "      <th>42</th>\n",
       "      <td>Spain</td>\n",
       "      <td>390</td>\n",
       "      <td>231</td>\n",
       "      <td>621</td>\n",
       "      <td>17</td>\n",
       "      <td>129</td>\n",
       "      <td>2.603865</td>\n",
       "    </tr>\n",
       "    <tr>\n",
       "      <th>27</th>\n",
       "      <td>Mexico</td>\n",
       "      <td>484</td>\n",
       "      <td>265</td>\n",
       "      <td>749</td>\n",
       "      <td>67</td>\n",
       "      <td>42</td>\n",
       "      <td>2.476636</td>\n",
       "    </tr>\n",
       "    <tr>\n",
       "      <th>2</th>\n",
       "      <td>Austria</td>\n",
       "      <td>1370</td>\n",
       "      <td>761</td>\n",
       "      <td>2272</td>\n",
       "      <td>879</td>\n",
       "      <td>258</td>\n",
       "      <td>2.344630</td>\n",
       "    </tr>\n",
       "    <tr>\n",
       "      <th>17</th>\n",
       "      <td>United Kingdom</td>\n",
       "      <td>2420</td>\n",
       "      <td>1201</td>\n",
       "      <td>3621</td>\n",
       "      <td>863</td>\n",
       "      <td>110</td>\n",
       "      <td>2.321734</td>\n",
       "    </tr>\n",
       "    <tr>\n",
       "      <th>1</th>\n",
       "      <td>Australia</td>\n",
       "      <td>3350</td>\n",
       "      <td>1650</td>\n",
       "      <td>5000</td>\n",
       "      <td>250</td>\n",
       "      <td>400</td>\n",
       "      <td>2.310000</td>\n",
       "    </tr>\n",
       "    <tr>\n",
       "      <th>25</th>\n",
       "      <td>Japan</td>\n",
       "      <td>2450</td>\n",
       "      <td>1171</td>\n",
       "      <td>3621</td>\n",
       "      <td>198</td>\n",
       "      <td>552</td>\n",
       "      <td>2.263739</td>\n",
       "    </tr>\n",
       "    <tr>\n",
       "      <th>8</th>\n",
       "      <td>Colombia</td>\n",
       "      <td>861</td>\n",
       "      <td>458</td>\n",
       "      <td>1438</td>\n",
       "      <td>203</td>\n",
       "      <td>73</td>\n",
       "      <td>2.229485</td>\n",
       "    </tr>\n",
       "    <tr>\n",
       "      <th>48</th>\n",
       "      <td>United States</td>\n",
       "      <td>33008</td>\n",
       "      <td>14129</td>\n",
       "      <td>47137</td>\n",
       "      <td>12345</td>\n",
       "      <td>3454</td>\n",
       "      <td>2.098203</td>\n",
       "    </tr>\n",
       "    <tr>\n",
       "      <th>44</th>\n",
       "      <td>Switzerland</td>\n",
       "      <td>600</td>\n",
       "      <td>250</td>\n",
       "      <td>850</td>\n",
       "      <td>100</td>\n",
       "      <td>240</td>\n",
       "      <td>2.058824</td>\n",
       "    </tr>\n",
       "    <tr>\n",
       "      <th>7</th>\n",
       "      <td>Chinese Taipei</td>\n",
       "      <td>500</td>\n",
       "      <td>200</td>\n",
       "      <td>700</td>\n",
       "      <td>300</td>\n",
       "      <td>50</td>\n",
       "      <td>2.000000</td>\n",
       "    </tr>\n",
       "    <tr>\n",
       "      <th>28</th>\n",
       "      <td>Netherlands</td>\n",
       "      <td>826</td>\n",
       "      <td>326</td>\n",
       "      <td>1152</td>\n",
       "      <td>139</td>\n",
       "      <td>198</td>\n",
       "      <td>1.980903</td>\n",
       "    </tr>\n",
       "    <tr>\n",
       "      <th>24</th>\n",
       "      <td>Italy</td>\n",
       "      <td>474</td>\n",
       "      <td>177</td>\n",
       "      <td>654</td>\n",
       "      <td>146</td>\n",
       "      <td>20</td>\n",
       "      <td>1.894495</td>\n",
       "    </tr>\n",
       "    <tr>\n",
       "      <th>16</th>\n",
       "      <td>Germany</td>\n",
       "      <td>2696</td>\n",
       "      <td>936</td>\n",
       "      <td>3632</td>\n",
       "      <td>488</td>\n",
       "      <td>847</td>\n",
       "      <td>1.803965</td>\n",
       "    </tr>\n",
       "    <tr>\n",
       "      <th>15</th>\n",
       "      <td>France</td>\n",
       "      <td>2014</td>\n",
       "      <td>682</td>\n",
       "      <td>2696</td>\n",
       "      <td>413</td>\n",
       "      <td>888</td>\n",
       "      <td>1.770772</td>\n",
       "    </tr>\n",
       "    <tr>\n",
       "      <th>3</th>\n",
       "      <td>Belgium</td>\n",
       "      <td>766</td>\n",
       "      <td>242</td>\n",
       "      <td>1008</td>\n",
       "      <td>203</td>\n",
       "      <td>72</td>\n",
       "      <td>1.680556</td>\n",
       "    </tr>\n",
       "    <tr>\n",
       "      <th>37</th>\n",
       "      <td>Singapore</td>\n",
       "      <td>400</td>\n",
       "      <td>150</td>\n",
       "      <td>800</td>\n",
       "      <td>200</td>\n",
       "      <td>10</td>\n",
       "      <td>1.312500</td>\n",
       "    </tr>\n",
       "    <tr>\n",
       "      <th>30</th>\n",
       "      <td>Norway</td>\n",
       "      <td>1110</td>\n",
       "      <td>242</td>\n",
       "      <td>1352</td>\n",
       "      <td>193</td>\n",
       "      <td>0</td>\n",
       "      <td>1.252959</td>\n",
       "    </tr>\n",
       "    <tr>\n",
       "      <th>43</th>\n",
       "      <td>Sweden</td>\n",
       "      <td>808</td>\n",
       "      <td>146</td>\n",
       "      <td>954</td>\n",
       "      <td>190</td>\n",
       "      <td>312</td>\n",
       "      <td>1.071279</td>\n",
       "    </tr>\n",
       "  </tbody>\n",
       "</table>\n",
       "</div>"
      ],
      "text/plain": [
       "           country  active_male  active_female  total  under_19  over_35  \\\n",
       "33     Philippines          596            446   1042       145       83   \n",
       "29     New Zealand          344            233    577        97       78   \n",
       "5           Canada        20426          13617  34043      2500     3500   \n",
       "13         Finland          357            212    569        79       98   \n",
       "42           Spain          390            231    621        17      129   \n",
       "27          Mexico          484            265    749        67       42   \n",
       "2          Austria         1370            761   2272       879      258   \n",
       "17  United Kingdom         2420           1201   3621       863      110   \n",
       "1        Australia         3350           1650   5000       250      400   \n",
       "25           Japan         2450           1171   3621       198      552   \n",
       "8         Colombia          861            458   1438       203       73   \n",
       "48   United States        33008          14129  47137     12345     3454   \n",
       "44     Switzerland          600            250    850       100      240   \n",
       "7   Chinese Taipei          500            200    700       300       50   \n",
       "28     Netherlands          826            326   1152       139      198   \n",
       "24           Italy          474            177    654       146       20   \n",
       "16         Germany         2696            936   3632       488      847   \n",
       "15          France         2014            682   2696       413      888   \n",
       "3          Belgium          766            242   1008       203       72   \n",
       "37       Singapore          400            150    800       200       10   \n",
       "30          Norway         1110            242   1352       193        0   \n",
       "43          Sweden          808            146    954       190      312   \n",
       "\n",
       "    Number of female per 7 active player  \n",
       "33                              2.996161  \n",
       "29                              2.826690  \n",
       "5                               2.799959  \n",
       "13                              2.608084  \n",
       "42                              2.603865  \n",
       "27                              2.476636  \n",
       "2                               2.344630  \n",
       "17                              2.321734  \n",
       "1                               2.310000  \n",
       "25                              2.263739  \n",
       "8                               2.229485  \n",
       "48                              2.098203  \n",
       "44                              2.058824  \n",
       "7                               2.000000  \n",
       "28                              1.980903  \n",
       "24                              1.894495  \n",
       "16                              1.803965  \n",
       "15                              1.770772  \n",
       "3                               1.680556  \n",
       "37                              1.312500  \n",
       "30                              1.252959  \n",
       "43                              1.071279  "
      ]
     },
     "execution_count": 540,
     "metadata": {},
     "output_type": "execute_result"
    }
   ],
   "source": [
    "df4 = wfdf[wfdf.total>500].sort_values(by='Number of female per 7 active player', ascending=False)\n",
    "df4"
   ]
  },
  {
   "cell_type": "code",
   "execution_count": 541,
   "metadata": {
    "collapsed": false,
    "deletable": true,
    "editable": true
   },
   "outputs": [
    {
     "data": {
      "text/plain": [
       "<matplotlib.axes._subplots.AxesSubplot at 0x11ce92d10>"
      ]
     },
     "execution_count": 541,
     "metadata": {},
     "output_type": "execute_result"
    },
    {
     "data": {
      "image/png": "[encoded data removed]",
      "text/plain": [
       "<matplotlib.figure.Figure at 0x11cc588d0>"
      ]
     },
     "metadata": {},
     "output_type": "display_data"
    }
   ],
   "source": [
    "P4 = df4.plot.bar(x='country', y='Number of female per 7 active player', color='red', \n",
    "                  title='Relative density of women playing ultimate per Country (2014)')\n",
    "P4"
   ]
  },
  {
   "cell_type": "code",
   "execution_count": 542,
   "metadata": {
    "collapsed": false,
    "deletable": true,
    "editable": true
   },
   "outputs": [],
   "source": [
    "P4.figure.savefig('image4_density_female.svg', bbox_inches='tight')"
   ]
  },
  {
   "cell_type": "code",
   "execution_count": 543,
   "metadata": {
    "collapsed": false,
    "deletable": true,
    "editable": true
   },
   "outputs": [
    {
     "data": {
      "text/plain": [
       "0.2857142857142857"
      ]
     },
     "execution_count": 543,
     "metadata": {},
     "output_type": "execute_result"
    }
   ],
   "source": [
    "2/7."
   ]
  },
  {
   "cell_type": "code",
   "execution_count": null,
   "metadata": {
    "collapsed": true
   },
   "outputs": [],
   "source": []
  },
  {
   "cell_type": "markdown",
   "metadata": {
    "deletable": true,
    "editable": true
   },
   "source": [
    "# 5. Number of ultimate players in Québec (2017)\n",
    "\n",
    "According to https://fqu.ca/federation/associations-regionales/\n",
    "\n",
    "Source: https://fr.wikipedia.org/wiki/R%C3%A9gion_administrative_du_Qu%C3%A9bec"
   ]
  },
  {
   "cell_type": "code",
   "execution_count": 544,
   "metadata": {
    "collapsed": false
   },
   "outputs": [
    {
     "data": {
      "text/plain": [
       "0.8444987775061125"
      ]
     },
     "execution_count": 544,
     "metadata": {},
     "output_type": "execute_result"
    }
   ],
   "source": [
    "6908./8180000 * 1000"
   ]
  },
  {
   "cell_type": "code",
   "execution_count": 545,
   "metadata": {
    "collapsed": false,
    "deletable": true,
    "editable": true
   },
   "outputs": [
    {
     "data": {
      "text/html": [
       "<div>\n",
       "<table border=\"1\" class=\"dataframe\">\n",
       "  <thead>\n",
       "    <tr style=\"text-align: right;\">\n",
       "      <th></th>\n",
       "      <th>Association</th>\n",
       "      <th>Nombre de membres en 2017</th>\n",
       "      <th>Code de la région</th>\n",
       "    </tr>\n",
       "  </thead>\n",
       "  <tbody>\n",
       "    <tr>\n",
       "      <th>0</th>\n",
       "      <td>Alma Ultimate (AU)</td>\n",
       "      <td>28</td>\n",
       "      <td>2</td>\n",
       "    </tr>\n",
       "    <tr>\n",
       "      <th>1</th>\n",
       "      <td>Ultimate Québec (UQ)</td>\n",
       "      <td>1620</td>\n",
       "      <td>3</td>\n",
       "    </tr>\n",
       "    <tr>\n",
       "      <th>2</th>\n",
       "      <td>Ultimate Trois-Rivières (UTR)</td>\n",
       "      <td>127</td>\n",
       "      <td>4</td>\n",
       "    </tr>\n",
       "    <tr>\n",
       "      <th>3</th>\n",
       "      <td>Association Ultimate Gaspé (AUG)</td>\n",
       "      <td>60</td>\n",
       "      <td>11</td>\n",
       "    </tr>\n",
       "    <tr>\n",
       "      <th>4</th>\n",
       "      <td>Ultimate Grand Montréal (UGM)</td>\n",
       "      <td>3454</td>\n",
       "      <td>6</td>\n",
       "    </tr>\n",
       "    <tr>\n",
       "      <th>5</th>\n",
       "      <td>Association d’Ultimate de Sherbrooke (AUS)</td>\n",
       "      <td>259</td>\n",
       "      <td>5</td>\n",
       "    </tr>\n",
       "    <tr>\n",
       "      <th>6</th>\n",
       "      <td>Frisbee Ultime Lanaudière (FUL)</td>\n",
       "      <td>112</td>\n",
       "      <td>14</td>\n",
       "    </tr>\n",
       "    <tr>\n",
       "      <th>7</th>\n",
       "      <td>Ultimate St-Jean (USJ)</td>\n",
       "      <td>175</td>\n",
       "      <td>16</td>\n",
       "    </tr>\n",
       "    <tr>\n",
       "      <th>8</th>\n",
       "      <td>Association Utimate Rimouski (AUR)</td>\n",
       "      <td>58</td>\n",
       "      <td>1</td>\n",
       "    </tr>\n",
       "    <tr>\n",
       "      <th>9</th>\n",
       "      <td>Association d’Ultimate de l’Outaouais (AUO)</td>\n",
       "      <td>188</td>\n",
       "      <td>7</td>\n",
       "    </tr>\n",
       "    <tr>\n",
       "      <th>10</th>\n",
       "      <td>Ligue d’Ultimate de Rouyn-Noranda (LURN)</td>\n",
       "      <td>220</td>\n",
       "      <td>8</td>\n",
       "    </tr>\n",
       "    <tr>\n",
       "      <th>11</th>\n",
       "      <td>Ultimate Tremblant (UT)</td>\n",
       "      <td>87</td>\n",
       "      <td>15</td>\n",
       "    </tr>\n",
       "    <tr>\n",
       "      <th>12</th>\n",
       "      <td>Ultimate Drummond (UD)</td>\n",
       "      <td>28</td>\n",
       "      <td>17</td>\n",
       "    </tr>\n",
       "    <tr>\n",
       "      <th>13</th>\n",
       "      <td>Association d’ultimate frisbee de Plessisville...</td>\n",
       "      <td>47</td>\n",
       "      <td>17</td>\n",
       "    </tr>\n",
       "    <tr>\n",
       "      <th>14</th>\n",
       "      <td>Ligue ultimate Vallée-de-l’or (LUVO)</td>\n",
       "      <td>95</td>\n",
       "      <td>8</td>\n",
       "    </tr>\n",
       "    <tr>\n",
       "      <th>15</th>\n",
       "      <td>Ultimate frisbee Granby (UFG)</td>\n",
       "      <td>147</td>\n",
       "      <td>16</td>\n",
       "    </tr>\n",
       "    <tr>\n",
       "      <th>16</th>\n",
       "      <td>Ligue d’ultimate d’Amos (LUA)</td>\n",
       "      <td>65</td>\n",
       "      <td>8</td>\n",
       "    </tr>\n",
       "    <tr>\n",
       "      <th>17</th>\n",
       "      <td>Ultimate Saint-Hyacinthe (USH)</td>\n",
       "      <td>76</td>\n",
       "      <td>16</td>\n",
       "    </tr>\n",
       "    <tr>\n",
       "      <th>18</th>\n",
       "      <td>Association Ultimate Victoriaville (AUV)</td>\n",
       "      <td>62</td>\n",
       "      <td>17</td>\n",
       "    </tr>\n",
       "  </tbody>\n",
       "</table>\n",
       "</div>"
      ],
      "text/plain": [
       "                                          Association  \\\n",
       "0                                  Alma Ultimate (AU)   \n",
       "1                                Ultimate Québec (UQ)   \n",
       "2                       Ultimate Trois-Rivières (UTR)   \n",
       "3                    Association Ultimate Gaspé (AUG)   \n",
       "4                       Ultimate Grand Montréal (UGM)   \n",
       "5          Association d’Ultimate de Sherbrooke (AUS)   \n",
       "6                     Frisbee Ultime Lanaudière (FUL)   \n",
       "7                              Ultimate St-Jean (USJ)   \n",
       "8                  Association Utimate Rimouski (AUR)   \n",
       "9         Association d’Ultimate de l’Outaouais (AUO)   \n",
       "10           Ligue d’Ultimate de Rouyn-Noranda (LURN)   \n",
       "11                            Ultimate Tremblant (UT)   \n",
       "12                             Ultimate Drummond (UD)   \n",
       "13  Association d’ultimate frisbee de Plessisville...   \n",
       "14               Ligue ultimate Vallée-de-l’or (LUVO)   \n",
       "15                      Ultimate frisbee Granby (UFG)   \n",
       "16                      Ligue d’ultimate d’Amos (LUA)   \n",
       "17                     Ultimate Saint-Hyacinthe (USH)   \n",
       "18           Association Ultimate Victoriaville (AUV)   \n",
       "\n",
       "    Nombre de membres en 2017  Code de la région  \n",
       "0                          28                  2  \n",
       "1                        1620                  3  \n",
       "2                         127                  4  \n",
       "3                          60                 11  \n",
       "4                        3454                  6  \n",
       "5                         259                  5  \n",
       "6                         112                 14  \n",
       "7                         175                 16  \n",
       "8                          58                  1  \n",
       "9                         188                  7  \n",
       "10                        220                  8  \n",
       "11                         87                 15  \n",
       "12                         28                 17  \n",
       "13                         47                 17  \n",
       "14                         95                  8  \n",
       "15                        147                 16  \n",
       "16                         65                  8  \n",
       "17                         76                 16  \n",
       "18                         62                 17  "
      ]
     },
     "execution_count": 545,
     "metadata": {},
     "output_type": "execute_result"
    }
   ],
   "source": [
    "quebec_association = pd.read_csv('data/quebec_association_size_2017.csv')\n",
    "quebec_association"
   ]
  },
  {
   "cell_type": "code",
   "execution_count": 546,
   "metadata": {
    "collapsed": false
   },
   "outputs": [
    {
     "data": {
      "text/html": [
       "<div>\n",
       "<table border=\"1\" class=\"dataframe\">\n",
       "  <thead>\n",
       "    <tr style=\"text-align: right;\">\n",
       "      <th></th>\n",
       "      <th>Region</th>\n",
       "      <th>Code</th>\n",
       "      <th>Population (2015)</th>\n",
       "    </tr>\n",
       "  </thead>\n",
       "  <tbody>\n",
       "    <tr>\n",
       "      <th>0</th>\n",
       "      <td>Bas-Saint-Laurent</td>\n",
       "      <td>1</td>\n",
       "      <td>199557</td>\n",
       "    </tr>\n",
       "    <tr>\n",
       "      <th>1</th>\n",
       "      <td>Saguenay–Lac-Saint-Jean</td>\n",
       "      <td>2</td>\n",
       "      <td>277209</td>\n",
       "    </tr>\n",
       "    <tr>\n",
       "      <th>2</th>\n",
       "      <td>Capitale-Nationale</td>\n",
       "      <td>3</td>\n",
       "      <td>737455</td>\n",
       "    </tr>\n",
       "    <tr>\n",
       "      <th>3</th>\n",
       "      <td>Mauricie</td>\n",
       "      <td>4</td>\n",
       "      <td>266907</td>\n",
       "    </tr>\n",
       "    <tr>\n",
       "      <th>4</th>\n",
       "      <td>Estrie</td>\n",
       "      <td>5</td>\n",
       "      <td>322099</td>\n",
       "    </tr>\n",
       "    <tr>\n",
       "      <th>5</th>\n",
       "      <td>Montréal</td>\n",
       "      <td>6</td>\n",
       "      <td>1999795</td>\n",
       "    </tr>\n",
       "    <tr>\n",
       "      <th>6</th>\n",
       "      <td>Outaouais</td>\n",
       "      <td>7</td>\n",
       "      <td>385579</td>\n",
       "    </tr>\n",
       "    <tr>\n",
       "      <th>7</th>\n",
       "      <td>Abitibi-Témiscamingue</td>\n",
       "      <td>8</td>\n",
       "      <td>147700</td>\n",
       "    </tr>\n",
       "    <tr>\n",
       "      <th>8</th>\n",
       "      <td>Côte-Nord</td>\n",
       "      <td>9</td>\n",
       "      <td>93932</td>\n",
       "    </tr>\n",
       "    <tr>\n",
       "      <th>9</th>\n",
       "      <td>Nord-du-Québec</td>\n",
       "      <td>10</td>\n",
       "      <td>44769</td>\n",
       "    </tr>\n",
       "    <tr>\n",
       "      <th>10</th>\n",
       "      <td>Gaspésie–Îles-de-la-Madeleine</td>\n",
       "      <td>11</td>\n",
       "      <td>91786</td>\n",
       "    </tr>\n",
       "    <tr>\n",
       "      <th>11</th>\n",
       "      <td>Chaudière-Appalaches</td>\n",
       "      <td>12</td>\n",
       "      <td>421832</td>\n",
       "    </tr>\n",
       "    <tr>\n",
       "      <th>12</th>\n",
       "      <td>Laval</td>\n",
       "      <td>13</td>\n",
       "      <td>425225</td>\n",
       "    </tr>\n",
       "    <tr>\n",
       "      <th>13</th>\n",
       "      <td>Lanaudière</td>\n",
       "      <td>14</td>\n",
       "      <td>496086</td>\n",
       "    </tr>\n",
       "    <tr>\n",
       "      <th>14</th>\n",
       "      <td>Laurentides</td>\n",
       "      <td>15</td>\n",
       "      <td>592683</td>\n",
       "    </tr>\n",
       "    <tr>\n",
       "      <th>15</th>\n",
       "      <td>Montérégie</td>\n",
       "      <td>16</td>\n",
       "      <td>1520094</td>\n",
       "    </tr>\n",
       "    <tr>\n",
       "      <th>16</th>\n",
       "      <td>Centre-du-Québec</td>\n",
       "      <td>17</td>\n",
       "      <td>240872</td>\n",
       "    </tr>\n",
       "  </tbody>\n",
       "</table>\n",
       "</div>"
      ],
      "text/plain": [
       "                           Region  Code  Population (2015)\n",
       "0               Bas-Saint-Laurent     1             199557\n",
       "1         Saguenay–Lac-Saint-Jean     2             277209\n",
       "2              Capitale-Nationale     3             737455\n",
       "3                        Mauricie     4             266907\n",
       "4                          Estrie     5             322099\n",
       "5                        Montréal     6            1999795\n",
       "6                       Outaouais     7             385579\n",
       "7           Abitibi-Témiscamingue     8             147700\n",
       "8                       Côte-Nord     9              93932\n",
       "9                  Nord-du-Québec    10              44769\n",
       "10  Gaspésie–Îles-de-la-Madeleine    11              91786\n",
       "11           Chaudière-Appalaches    12             421832\n",
       "12                          Laval    13             425225\n",
       "13                     Lanaudière    14             496086\n",
       "14                    Laurentides    15             592683\n",
       "15                     Montérégie    16            1520094\n",
       "16               Centre-du-Québec    17             240872"
      ]
     },
     "execution_count": 546,
     "metadata": {},
     "output_type": "execute_result"
    }
   ],
   "source": [
    "quebec_region = pd.read_csv('data/regions_du_quebec.csv')\n",
    "quebec_region = quebec_region.loc[:,['Region','Code', 'Population (2015)']]\n",
    "quebec_region"
   ]
  },
  {
   "cell_type": "code",
   "execution_count": 547,
   "metadata": {
    "collapsed": false
   },
   "outputs": [
    {
     "name": "stdout",
     "output_type": "stream",
     "text": [
      "[58, 28, 1620, 127, 259, 3454, 188, 380, 0, 0, 60, 0, 0, 112, 87, 398, 137]\n"
     ]
    }
   ],
   "source": [
    "L = [0]*18\n",
    "for i in quebec_association.index:\n",
    "    code = quebec_association.iloc[i]['Code de la région']\n",
    "    L[code] += quebec_association.iloc[i]['Nombre de membres en 2017']\n",
    "del L[0]\n",
    "print L\n",
    "quebec_region['Number of players (2017)'] = L"
   ]
  },
  {
   "cell_type": "code",
   "execution_count": 548,
   "metadata": {
    "collapsed": false
   },
   "outputs": [
    {
     "data": {
      "text/html": [
       "<div>\n",
       "<table border=\"1\" class=\"dataframe\">\n",
       "  <thead>\n",
       "    <tr style=\"text-align: right;\">\n",
       "      <th></th>\n",
       "      <th>Region</th>\n",
       "      <th>Code</th>\n",
       "      <th>Population (2015)</th>\n",
       "      <th>Number of players (2017)</th>\n",
       "    </tr>\n",
       "  </thead>\n",
       "  <tbody>\n",
       "    <tr>\n",
       "      <th>0</th>\n",
       "      <td>Bas-Saint-Laurent</td>\n",
       "      <td>1</td>\n",
       "      <td>199557</td>\n",
       "      <td>58</td>\n",
       "    </tr>\n",
       "    <tr>\n",
       "      <th>1</th>\n",
       "      <td>Saguenay–Lac-Saint-Jean</td>\n",
       "      <td>2</td>\n",
       "      <td>277209</td>\n",
       "      <td>28</td>\n",
       "    </tr>\n",
       "    <tr>\n",
       "      <th>2</th>\n",
       "      <td>Capitale-Nationale</td>\n",
       "      <td>3</td>\n",
       "      <td>737455</td>\n",
       "      <td>1620</td>\n",
       "    </tr>\n",
       "    <tr>\n",
       "      <th>3</th>\n",
       "      <td>Mauricie</td>\n",
       "      <td>4</td>\n",
       "      <td>266907</td>\n",
       "      <td>127</td>\n",
       "    </tr>\n",
       "    <tr>\n",
       "      <th>4</th>\n",
       "      <td>Estrie</td>\n",
       "      <td>5</td>\n",
       "      <td>322099</td>\n",
       "      <td>259</td>\n",
       "    </tr>\n",
       "    <tr>\n",
       "      <th>5</th>\n",
       "      <td>Montréal</td>\n",
       "      <td>6</td>\n",
       "      <td>1999795</td>\n",
       "      <td>3454</td>\n",
       "    </tr>\n",
       "    <tr>\n",
       "      <th>6</th>\n",
       "      <td>Outaouais</td>\n",
       "      <td>7</td>\n",
       "      <td>385579</td>\n",
       "      <td>188</td>\n",
       "    </tr>\n",
       "    <tr>\n",
       "      <th>7</th>\n",
       "      <td>Abitibi-Témiscamingue</td>\n",
       "      <td>8</td>\n",
       "      <td>147700</td>\n",
       "      <td>380</td>\n",
       "    </tr>\n",
       "    <tr>\n",
       "      <th>8</th>\n",
       "      <td>Côte-Nord</td>\n",
       "      <td>9</td>\n",
       "      <td>93932</td>\n",
       "      <td>0</td>\n",
       "    </tr>\n",
       "    <tr>\n",
       "      <th>9</th>\n",
       "      <td>Nord-du-Québec</td>\n",
       "      <td>10</td>\n",
       "      <td>44769</td>\n",
       "      <td>0</td>\n",
       "    </tr>\n",
       "    <tr>\n",
       "      <th>10</th>\n",
       "      <td>Gaspésie–Îles-de-la-Madeleine</td>\n",
       "      <td>11</td>\n",
       "      <td>91786</td>\n",
       "      <td>60</td>\n",
       "    </tr>\n",
       "    <tr>\n",
       "      <th>11</th>\n",
       "      <td>Chaudière-Appalaches</td>\n",
       "      <td>12</td>\n",
       "      <td>421832</td>\n",
       "      <td>0</td>\n",
       "    </tr>\n",
       "    <tr>\n",
       "      <th>12</th>\n",
       "      <td>Laval</td>\n",
       "      <td>13</td>\n",
       "      <td>425225</td>\n",
       "      <td>0</td>\n",
       "    </tr>\n",
       "    <tr>\n",
       "      <th>13</th>\n",
       "      <td>Lanaudière</td>\n",
       "      <td>14</td>\n",
       "      <td>496086</td>\n",
       "      <td>112</td>\n",
       "    </tr>\n",
       "    <tr>\n",
       "      <th>14</th>\n",
       "      <td>Laurentides</td>\n",
       "      <td>15</td>\n",
       "      <td>592683</td>\n",
       "      <td>87</td>\n",
       "    </tr>\n",
       "    <tr>\n",
       "      <th>15</th>\n",
       "      <td>Montérégie</td>\n",
       "      <td>16</td>\n",
       "      <td>1520094</td>\n",
       "      <td>398</td>\n",
       "    </tr>\n",
       "    <tr>\n",
       "      <th>16</th>\n",
       "      <td>Centre-du-Québec</td>\n",
       "      <td>17</td>\n",
       "      <td>240872</td>\n",
       "      <td>137</td>\n",
       "    </tr>\n",
       "  </tbody>\n",
       "</table>\n",
       "</div>"
      ],
      "text/plain": [
       "                           Region  Code  Population (2015)  \\\n",
       "0               Bas-Saint-Laurent     1             199557   \n",
       "1         Saguenay–Lac-Saint-Jean     2             277209   \n",
       "2              Capitale-Nationale     3             737455   \n",
       "3                        Mauricie     4             266907   \n",
       "4                          Estrie     5             322099   \n",
       "5                        Montréal     6            1999795   \n",
       "6                       Outaouais     7             385579   \n",
       "7           Abitibi-Témiscamingue     8             147700   \n",
       "8                       Côte-Nord     9              93932   \n",
       "9                  Nord-du-Québec    10              44769   \n",
       "10  Gaspésie–Îles-de-la-Madeleine    11              91786   \n",
       "11           Chaudière-Appalaches    12             421832   \n",
       "12                          Laval    13             425225   \n",
       "13                     Lanaudière    14             496086   \n",
       "14                    Laurentides    15             592683   \n",
       "15                     Montérégie    16            1520094   \n",
       "16               Centre-du-Québec    17             240872   \n",
       "\n",
       "    Number of players (2017)  \n",
       "0                         58  \n",
       "1                         28  \n",
       "2                       1620  \n",
       "3                        127  \n",
       "4                        259  \n",
       "5                       3454  \n",
       "6                        188  \n",
       "7                        380  \n",
       "8                          0  \n",
       "9                          0  \n",
       "10                        60  \n",
       "11                         0  \n",
       "12                         0  \n",
       "13                       112  \n",
       "14                        87  \n",
       "15                       398  \n",
       "16                       137  "
      ]
     },
     "execution_count": 548,
     "metadata": {},
     "output_type": "execute_result"
    }
   ],
   "source": [
    "quebec_region"
   ]
  },
  {
   "cell_type": "code",
   "execution_count": 549,
   "metadata": {
    "collapsed": false
   },
   "outputs": [
    {
     "data": {
      "text/plain": [
       "<matplotlib.axes._subplots.AxesSubplot at 0x11cec5950>"
      ]
     },
     "execution_count": 549,
     "metadata": {},
     "output_type": "execute_result"
    },
    {
     "data": {
      "image/png": "[encoded data removed]",
      "text/plain": [
       "<matplotlib.figure.Figure at 0x11c8f4490>"
      ]
     },
     "metadata": {},
     "output_type": "display_data"
    }
   ],
   "source": [
    "df5 = quebec_region.sort_values(by='Number of players (2017)', ascending=False)\n",
    "P5 = df5.plot.bar(x='Region', y='Number of players (2017)', color='magenta', \n",
    "                  title='Number of people playing ultimate per Quebec region (2017)')\n",
    "P5"
   ]
  },
  {
   "cell_type": "code",
   "execution_count": 550,
   "metadata": {
    "collapsed": false,
    "deletable": true,
    "editable": true
   },
   "outputs": [],
   "source": [
    "P5.figure.savefig('image5_active_quebec_region.svg', bbox_inches='tight')"
   ]
  },
  {
   "cell_type": "markdown",
   "metadata": {},
   "source": [
    "# 6. Density of ultimate players in Québec regions (2017)"
   ]
  },
  {
   "cell_type": "code",
   "execution_count": 551,
   "metadata": {
    "collapsed": false
   },
   "outputs": [
    {
     "data": {
      "text/html": [
       "<div>\n",
       "<table border=\"1\" class=\"dataframe\">\n",
       "  <thead>\n",
       "    <tr style=\"text-align: right;\">\n",
       "      <th></th>\n",
       "      <th>Region</th>\n",
       "      <th>Code</th>\n",
       "      <th>Population (2015)</th>\n",
       "      <th>Number of players (2017)</th>\n",
       "      <th>Number of players per 1000 population</th>\n",
       "    </tr>\n",
       "  </thead>\n",
       "  <tbody>\n",
       "    <tr>\n",
       "      <th>7</th>\n",
       "      <td>Abitibi-Témiscamingue</td>\n",
       "      <td>8</td>\n",
       "      <td>147700</td>\n",
       "      <td>380</td>\n",
       "      <td>2.572783</td>\n",
       "    </tr>\n",
       "    <tr>\n",
       "      <th>2</th>\n",
       "      <td>Capitale-Nationale</td>\n",
       "      <td>3</td>\n",
       "      <td>737455</td>\n",
       "      <td>1620</td>\n",
       "      <td>2.196744</td>\n",
       "    </tr>\n",
       "    <tr>\n",
       "      <th>5</th>\n",
       "      <td>Montréal</td>\n",
       "      <td>6</td>\n",
       "      <td>1999795</td>\n",
       "      <td>3454</td>\n",
       "      <td>1.727177</td>\n",
       "    </tr>\n",
       "    <tr>\n",
       "      <th>4</th>\n",
       "      <td>Estrie</td>\n",
       "      <td>5</td>\n",
       "      <td>322099</td>\n",
       "      <td>259</td>\n",
       "      <td>0.804101</td>\n",
       "    </tr>\n",
       "    <tr>\n",
       "      <th>10</th>\n",
       "      <td>Gaspésie–Îles-de-la-Madeleine</td>\n",
       "      <td>11</td>\n",
       "      <td>91786</td>\n",
       "      <td>60</td>\n",
       "      <td>0.653694</td>\n",
       "    </tr>\n",
       "    <tr>\n",
       "      <th>16</th>\n",
       "      <td>Centre-du-Québec</td>\n",
       "      <td>17</td>\n",
       "      <td>240872</td>\n",
       "      <td>137</td>\n",
       "      <td>0.568767</td>\n",
       "    </tr>\n",
       "    <tr>\n",
       "      <th>6</th>\n",
       "      <td>Outaouais</td>\n",
       "      <td>7</td>\n",
       "      <td>385579</td>\n",
       "      <td>188</td>\n",
       "      <td>0.487578</td>\n",
       "    </tr>\n",
       "    <tr>\n",
       "      <th>3</th>\n",
       "      <td>Mauricie</td>\n",
       "      <td>4</td>\n",
       "      <td>266907</td>\n",
       "      <td>127</td>\n",
       "      <td>0.475821</td>\n",
       "    </tr>\n",
       "    <tr>\n",
       "      <th>0</th>\n",
       "      <td>Bas-Saint-Laurent</td>\n",
       "      <td>1</td>\n",
       "      <td>199557</td>\n",
       "      <td>58</td>\n",
       "      <td>0.290644</td>\n",
       "    </tr>\n",
       "    <tr>\n",
       "      <th>15</th>\n",
       "      <td>Montérégie</td>\n",
       "      <td>16</td>\n",
       "      <td>1520094</td>\n",
       "      <td>398</td>\n",
       "      <td>0.261826</td>\n",
       "    </tr>\n",
       "    <tr>\n",
       "      <th>13</th>\n",
       "      <td>Lanaudière</td>\n",
       "      <td>14</td>\n",
       "      <td>496086</td>\n",
       "      <td>112</td>\n",
       "      <td>0.225767</td>\n",
       "    </tr>\n",
       "    <tr>\n",
       "      <th>14</th>\n",
       "      <td>Laurentides</td>\n",
       "      <td>15</td>\n",
       "      <td>592683</td>\n",
       "      <td>87</td>\n",
       "      <td>0.146790</td>\n",
       "    </tr>\n",
       "    <tr>\n",
       "      <th>1</th>\n",
       "      <td>Saguenay–Lac-Saint-Jean</td>\n",
       "      <td>2</td>\n",
       "      <td>277209</td>\n",
       "      <td>28</td>\n",
       "      <td>0.101007</td>\n",
       "    </tr>\n",
       "    <tr>\n",
       "      <th>9</th>\n",
       "      <td>Nord-du-Québec</td>\n",
       "      <td>10</td>\n",
       "      <td>44769</td>\n",
       "      <td>0</td>\n",
       "      <td>0.000000</td>\n",
       "    </tr>\n",
       "    <tr>\n",
       "      <th>11</th>\n",
       "      <td>Chaudière-Appalaches</td>\n",
       "      <td>12</td>\n",
       "      <td>421832</td>\n",
       "      <td>0</td>\n",
       "      <td>0.000000</td>\n",
       "    </tr>\n",
       "    <tr>\n",
       "      <th>12</th>\n",
       "      <td>Laval</td>\n",
       "      <td>13</td>\n",
       "      <td>425225</td>\n",
       "      <td>0</td>\n",
       "      <td>0.000000</td>\n",
       "    </tr>\n",
       "    <tr>\n",
       "      <th>8</th>\n",
       "      <td>Côte-Nord</td>\n",
       "      <td>9</td>\n",
       "      <td>93932</td>\n",
       "      <td>0</td>\n",
       "      <td>0.000000</td>\n",
       "    </tr>\n",
       "  </tbody>\n",
       "</table>\n",
       "</div>"
      ],
      "text/plain": [
       "                           Region  Code  Population (2015)  \\\n",
       "7           Abitibi-Témiscamingue     8             147700   \n",
       "2              Capitale-Nationale     3             737455   \n",
       "5                        Montréal     6            1999795   \n",
       "4                          Estrie     5             322099   \n",
       "10  Gaspésie–Îles-de-la-Madeleine    11              91786   \n",
       "16               Centre-du-Québec    17             240872   \n",
       "6                       Outaouais     7             385579   \n",
       "3                        Mauricie     4             266907   \n",
       "0               Bas-Saint-Laurent     1             199557   \n",
       "15                     Montérégie    16            1520094   \n",
       "13                     Lanaudière    14             496086   \n",
       "14                    Laurentides    15             592683   \n",
       "1         Saguenay–Lac-Saint-Jean     2             277209   \n",
       "9                  Nord-du-Québec    10              44769   \n",
       "11           Chaudière-Appalaches    12             421832   \n",
       "12                          Laval    13             425225   \n",
       "8                       Côte-Nord     9              93932   \n",
       "\n",
       "    Number of players (2017)  Number of players per 1000 population  \n",
       "7                        380                               2.572783  \n",
       "2                       1620                               2.196744  \n",
       "5                       3454                               1.727177  \n",
       "4                        259                               0.804101  \n",
       "10                        60                               0.653694  \n",
       "16                       137                               0.568767  \n",
       "6                        188                               0.487578  \n",
       "3                        127                               0.475821  \n",
       "0                         58                               0.290644  \n",
       "15                       398                               0.261826  \n",
       "13                       112                               0.225767  \n",
       "14                        87                               0.146790  \n",
       "1                         28                               0.101007  \n",
       "9                          0                               0.000000  \n",
       "11                         0                               0.000000  \n",
       "12                         0                               0.000000  \n",
       "8                          0                               0.000000  "
      ]
     },
     "execution_count": 551,
     "metadata": {},
     "output_type": "execute_result"
    }
   ],
   "source": [
    "A = quebec_region['Number of players (2017)']\n",
    "B = quebec_region['Population (2015)']\n",
    "quebec_region['Number of players per 1000 population'] = A / B * 1000\n",
    "df6 = quebec_region.sort_values(by='Number of players per 1000 population', ascending=False)\n",
    "#df2 = df2[df2.nplayers>500]\n",
    "#df2.head(10)\n",
    "df6"
   ]
  },
  {
   "cell_type": "code",
   "execution_count": 552,
   "metadata": {
    "collapsed": false
   },
   "outputs": [
    {
     "data": {
      "text/plain": [
       "<matplotlib.axes._subplots.AxesSubplot at 0x11c634a90>"
      ]
     },
     "execution_count": 552,
     "metadata": {},
     "output_type": "execute_result"
    },
    {
     "data": {
      "image/png": "[encoded data removed]",
      "text/plain": [
       "<matplotlib.figure.Figure at 0x11cebc6d0>"
      ]
     },
     "metadata": {},
     "output_type": "display_data"
    }
   ],
   "source": [
    "P6 = df6.plot.bar(x='Region', y='Number of players per 1000 population', color='orange', \n",
    "                  title='Density of people playing ultimate per Quebec region (2017)')\n",
    "P6"
   ]
  },
  {
   "cell_type": "code",
   "execution_count": 553,
   "metadata": {
    "collapsed": false,
    "deletable": true,
    "editable": true
   },
   "outputs": [],
   "source": [
    "P6.figure.savefig('image6_density_quebec_region.svg', bbox_inches='tight')"
   ]
  },
  {
   "cell_type": "markdown",
   "metadata": {},
   "source": [
    "# 7. Density of Ultimate Players in cities I lived in"
   ]
  },
  {
   "cell_type": "code",
   "execution_count": 554,
   "metadata": {
    "collapsed": false
   },
   "outputs": [
    {
     "data": {
      "text/html": [
       "<div>\n",
       "<table border=\"1\" class=\"dataframe\">\n",
       "  <thead>\n",
       "    <tr style=\"text-align: right;\">\n",
       "      <th></th>\n",
       "      <th>Cities</th>\n",
       "      <th>Number of players</th>\n",
       "      <th>Population</th>\n",
       "      <th>Number of players per 1000 population</th>\n",
       "    </tr>\n",
       "  </thead>\n",
       "  <tbody>\n",
       "    <tr>\n",
       "      <th>1</th>\n",
       "      <td>Québec city (Canada)</td>\n",
       "      <td>1620</td>\n",
       "      <td>538238</td>\n",
       "      <td>3.009821</td>\n",
       "    </tr>\n",
       "    <tr>\n",
       "      <th>2</th>\n",
       "      <td>Montréal (Canada)</td>\n",
       "      <td>3454</td>\n",
       "      <td>1741000</td>\n",
       "      <td>1.983917</td>\n",
       "    </tr>\n",
       "    <tr>\n",
       "      <th>0</th>\n",
       "      <td>Sherbrooke (Canada)</td>\n",
       "      <td>259</td>\n",
       "      <td>162638</td>\n",
       "      <td>1.592494</td>\n",
       "    </tr>\n",
       "    <tr>\n",
       "      <th>6</th>\n",
       "      <td>Bordeaux (France)</td>\n",
       "      <td>37</td>\n",
       "      <td>239157</td>\n",
       "      <td>0.154710</td>\n",
       "    </tr>\n",
       "    <tr>\n",
       "      <th>3</th>\n",
       "      <td>Montpellier (France)</td>\n",
       "      <td>35</td>\n",
       "      <td>257351</td>\n",
       "      <td>0.136001</td>\n",
       "    </tr>\n",
       "    <tr>\n",
       "      <th>5</th>\n",
       "      <td>Liège (Belgium)</td>\n",
       "      <td>25</td>\n",
       "      <td>195965</td>\n",
       "      <td>0.127574</td>\n",
       "    </tr>\n",
       "    <tr>\n",
       "      <th>4</th>\n",
       "      <td>Paris -  (France)</td>\n",
       "      <td>926</td>\n",
       "      <td>12100000</td>\n",
       "      <td>0.076529</td>\n",
       "    </tr>\n",
       "  </tbody>\n",
       "</table>\n",
       "</div>"
      ],
      "text/plain": [
       "                 Cities  Number of players  Population  \\\n",
       "1  Québec city (Canada)               1620      538238   \n",
       "2     Montréal (Canada)               3454     1741000   \n",
       "0   Sherbrooke (Canada)                259      162638   \n",
       "6     Bordeaux (France)                 37      239157   \n",
       "3  Montpellier (France)                 35      257351   \n",
       "5       Liège (Belgium)                 25      195965   \n",
       "4     Paris -  (France)                926    12100000   \n",
       "\n",
       "   Number of players per 1000 population  \n",
       "1                               3.009821  \n",
       "2                               1.983917  \n",
       "0                               1.592494  \n",
       "6                               0.154710  \n",
       "3                               0.136001  \n",
       "5                               0.127574  \n",
       "4                               0.076529  "
      ]
     },
     "execution_count": 554,
     "metadata": {},
     "output_type": "execute_result"
    }
   ],
   "source": [
    "df7 = pd.DataFrame()\n",
    "df7['Cities'] = ['Sherbrooke (Canada)', 'Québec city (Canada)', 'Montréal (Canada)', 'Montpellier (France)', 'Paris -  (France)', 'Liège (Belgium)', 'Bordeaux (France)']\n",
    "df7['Number of players'] = [259,1620,3454,35,926,25,37]\n",
    "df7['Population'] = [162638,538238,1741000,257351,12100000,195965,239157]\n",
    "df7['Number of players per 1000 population'] = df7['Number of players'] / df7['Population'] * 1000\n",
    "df7 = df7.sort_values(by='Number of players per 1000 population', ascending=False)\n",
    "df7"
   ]
  },
  {
   "cell_type": "code",
   "execution_count": 555,
   "metadata": {
    "collapsed": false
   },
   "outputs": [
    {
     "data": {
      "text/plain": [
       "<matplotlib.axes._subplots.AxesSubplot at 0x11d5be550>"
      ]
     },
     "execution_count": 555,
     "metadata": {},
     "output_type": "execute_result"
    },
    {
     "data": {
      "image/png": "[encoded data removed]",
      "text/plain": [
       "<matplotlib.figure.Figure at 0x11d354790>"
      ]
     },
     "metadata": {},
     "output_type": "display_data"
    }
   ],
   "source": [
    "P7 = df7.plot.bar(x='Cities', y='Number of players per 1000 population', color='violet', \n",
    "                  title='Density of Ultimate Players in some cities (2017)')\n",
    "P7"
   ]
  },
  {
   "cell_type": "code",
   "execution_count": 556,
   "metadata": {
    "collapsed": false,
    "deletable": true,
    "editable": true
   },
   "outputs": [],
   "source": [
    "P7.figure.savefig('image7_density_some_cities.svg', bbox_inches='tight')"
   ]
  },
  {
   "cell_type": "code",
   "execution_count": null,
   "metadata": {
    "collapsed": true
   },
   "outputs": [],
   "source": []
  }
 ],
 "metadata": {
  "kernelspec": {
   "display_name": "Python 2",
   "language": "python",
   "name": "python2"
  },
  "language_info": {
   "codemirror_mode": {
    "name": "ipython",
    "version": 2
   },
   "file_extension": ".py",
   "mimetype": "text/x-python",
   "name": "python",
   "nbconvert_exporter": "python",
   "pygments_lexer": "ipython2",
   "version": "2.7.13"
  }
 },
 "nbformat": 4,
 "nbformat_minor": 2
}
